{
  "nbformat": 4,
  "nbformat_minor": 0,
  "metadata": {
    "colab": {
      "name": "Final Project-Recommendations for Investors.ipynb",
      "version": "0.3.2",
      "provenance": [],
      "collapsed_sections": [],
      "toc_visible": true,
      "include_colab_link": true
    },
    "kernelspec": {
      "name": "python3",
      "display_name": "Python 3"
    }
  },
  "cells": [
    {
      "cell_type": "markdown",
      "metadata": {
        "id": "view-in-github",
        "colab_type": "text"
      },
      "source": [
        "<a href=\"https://colab.research.google.com/github/anunav83/SparkProject-UCBerkeley/blob/master/Final_Project_Recommendations_for_Investors.ipynb\" target=\"_parent\"><img src=\"https://colab.research.google.com/assets/colab-badge.svg\" alt=\"Open In Colab\"/></a>"
      ]
    },
    {
      "cell_type": "markdown",
      "metadata": {
        "id": "kvD4HBMi0ohY",
        "colab_type": "text"
      },
      "source": [
        "# Final Project : Home Investment Recommendations\n",
        "By: Anupama Navaneethan\n",
        "\n",
        "Date: 11/04/2018\n",
        "\n",
        "The goal of an investor is to buy a property that has a high rental income and also a high expected price appreciation. In this project we will recommend location (zipcode) of such properties.\n",
        "\n",
        "Downloaded Dataset from following locations. Zillow Research :  Zip_PriceToRentRatio_AllHomes.csv and AllRegionsForePublic.csv:\n",
        "\n",
        "*  **Zip_PriceToRentRatio_AllHomes:** The ratio of home prices to annual rental rates.\n",
        "*  **AllRegionsForePublic**: Forecast of Year-over-year-percentage-change \n",
        "\n",
        "\n",
        "\n",
        "[Project Requirements](https://docs.google.com/document/d/1e8pegA_FI4IOb-uhO1jd8dr46VIqmxmvtQPKnWfjjRo/)"
      ]
    },
    {
      "cell_type": "code",
      "metadata": {
        "id": "fUhBhrGmyAvs",
        "colab_type": "code",
        "colab": {}
      },
      "source": [
        "!apt-get install openjdk-8-jdk-headless -qq > /dev/null\n",
        "!wget -q http://www-us.apache.org/dist/spark/spark-2.3.1/spark-2.3.1-bin-hadoop2.7.tgz\n",
        "!tar xf spark-2.3.1-bin-hadoop2.7.tgz\n",
        "!pip install -q findspark"
      ],
      "execution_count": 0,
      "outputs": []
    },
    {
      "cell_type": "markdown",
      "metadata": {
        "id": "b4Kjvk_h1AHl",
        "colab_type": "text"
      },
      "source": [
        "# Set Environment Variables\n",
        "Set the locations where Spark and Java are installed."
      ]
    },
    {
      "cell_type": "code",
      "metadata": {
        "id": "8Xnb_ePUyQIL",
        "colab_type": "code",
        "colab": {}
      },
      "source": [
        "import os\n",
        "os.environ[\"JAVA_HOME\"] = \"/usr/lib/jvm/java-8-openjdk-amd64\"\n",
        "os.environ[\"SPARK_HOME\"] = \"/content/spark-2.3.1-bin-hadoop2.7\"\n",
        "\n",
        "import findspark\n",
        "findspark.init()\n",
        "from pyspark.sql import SparkSession\n",
        "\n",
        "spark = SparkSession.builder.master(\"local[*]\").getOrCreate()\n",
        "sc = spark.sparkContext"
      ],
      "execution_count": 0,
      "outputs": []
    },
    {
      "cell_type": "markdown",
      "metadata": {
        "id": "Nwaz0fDDjIBW",
        "colab_type": "text"
      },
      "source": [
        "# Download Data\n",
        "Make `data` directory and download file."
      ]
    },
    {
      "cell_type": "code",
      "metadata": {
        "id": "cM7TtOMmsIQL",
        "colab_type": "code",
        "outputId": "a7fc41d5-80a8-474e-c514-f7ee0e868159",
        "colab": {
          "resources": {
            "http://localhost:8080/nbextensions/google.colab/files.js": {
              "data": "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",
              "ok": true,
              "headers": [
                [
                  "content-type",
                  "application/javascript"
                ]
              ],
              "status": 200,
              "status_text": ""
            }
          },
          "base_uri": "https://localhost:8080/",
          "height": 105
        }
      },
      "source": [
        "from google.colab import files\n",
        "uploaded = files.upload()"
      ],
      "execution_count": 0,
      "outputs": [
        {
          "output_type": "display_data",
          "data": {
            "text/html": [
              "\n",
              "     <input type=\"file\" id=\"files-ccb5a727-0a5b-4011-8c73-c3d357963389\" name=\"files[]\" multiple disabled />\n",
              "     <output id=\"result-ccb5a727-0a5b-4011-8c73-c3d357963389\">\n",
              "      Upload widget is only available when the cell has been executed in the\n",
              "      current browser session. Please rerun this cell to enable.\n",
              "      </output>\n",
              "      <script src=\"/nbextensions/google.colab/files.js\"></script> "
            ],
            "text/plain": [
              "<IPython.core.display.HTML object>"
            ]
          },
          "metadata": {
            "tags": []
          }
        },
        {
          "output_type": "stream",
          "text": [
            "Saving Zip_PriceToRentRatio_AllHomes.csv to Zip_PriceToRentRatio_AllHomes (1).csv\n",
            "Saving AllRegionsForePublic.csv to AllRegionsForePublic (1).csv\n"
          ],
          "name": "stdout"
        }
      ]
    },
    {
      "cell_type": "code",
      "metadata": {
        "id": "Ze5kkHv1uhBy",
        "colab_type": "code",
        "outputId": "6a681f18-9c88-47cc-b03b-54869bfe8da4",
        "colab": {
          "base_uri": "https://localhost:8080/",
          "height": 470
        }
      },
      "source": [
        "pprr_df = spark.read.csv(\"Zip_PriceToRentRatio_AllHomes.csv\", inferSchema = True, header = True)\n",
        "pprr_df.show()\n"
      ],
      "execution_count": 0,
      "outputs": [
        {
          "output_type": "stream",
          "text": [
            "+--------+----------+-------------+-----+--------------------+-------------+--------+-------+-------+-------+-------+-------+-------+-------+-------+-------+-------+-------+-------+-------+-------+-------+-------+-------+-------+-------+-------+-------+-------+-------+-------+-------+-------+-------+-------+-------+-------+-------+-------+-------+-------+-------+-------+-------+-------+-------+-------+-------+-------+-------+-------+-------+-------+-------+-------+-------+-------+-------+-------+-------+-------+-------+-------+-------+-------+-------+-------+-------+-------+-------+-------+-------+-------+-------+-------+-------+-------+-------+-------+-------+-------+-------+-------+-------+-------+-------+-------+-------+-------+-------+-------+-------+-------+-------+-------+-------+-------+-------+-------+-------+-------+-------+-------+\n",
            "|RegionID|RegionName|         City|State|               Metro|   CountyName|SizeRank|2010-10|2010-11|2010-12|2011-01|2011-02|2011-03|2011-04|2011-05|2011-06|2011-07|2011-08|2011-09|2011-10|2011-11|2011-12|2012-01|2012-02|2012-03|2012-04|2012-05|2012-06|2012-07|2012-08|2012-09|2012-10|2012-11|2012-12|2013-01|2013-02|2013-03|2013-04|2013-05|2013-06|2013-07|2013-08|2013-09|2013-10|2013-11|2013-12|2014-01|2014-02|2014-03|2014-04|2014-05|2014-06|2014-07|2014-08|2014-09|2014-10|2014-11|2014-12|2015-01|2015-02|2015-03|2015-04|2015-05|2015-06|2015-07|2015-08|2015-09|2015-10|2015-11|2015-12|2016-01|2016-02|2016-03|2016-04|2016-05|2016-06|2016-07|2016-08|2016-09|2016-10|2016-11|2016-12|2017-01|2017-02|2017-03|2017-04|2017-05|2017-06|2017-07|2017-08|2017-09|2017-10|2017-11|2017-12|2018-01|2018-02|2018-03|2018-04|2018-05|2018-06|2018-07|2018-08|2018-09|\n",
            "+--------+----------+-------------+-----+--------------------+-------------+--------+-------+-------+-------+-------+-------+-------+-------+-------+-------+-------+-------+-------+-------+-------+-------+-------+-------+-------+-------+-------+-------+-------+-------+-------+-------+-------+-------+-------+-------+-------+-------+-------+-------+-------+-------+-------+-------+-------+-------+-------+-------+-------+-------+-------+-------+-------+-------+-------+-------+-------+-------+-------+-------+-------+-------+-------+-------+-------+-------+-------+-------+-------+-------+-------+-------+-------+-------+-------+-------+-------+-------+-------+-------+-------+-------+-------+-------+-------+-------+-------+-------+-------+-------+-------+-------+-------+-------+-------+-------+-------+-------+-------+-------+-------+-------+-------+\n",
            "|   61639|     10025|     New York|   NY|New York-Newark-J...|     New York|       1|  18.74|  18.92|  19.07|   19.4|  19.89|   20.2|  20.53|   20.6|   20.5|   20.4|  20.31|  20.09|  20.11|  20.56|   20.4|   19.7|  19.62|  19.49|  19.35|  19.57|  19.85|  19.58|  19.17|  19.31|   19.5|  19.71|  19.49|  19.55|  20.29|  20.56|  20.75|  20.35|  20.29|   21.0|  22.01|   21.7|   21.7|  22.73|  22.39|  22.15|  22.35|  22.58|  24.19|  24.08|  23.99|  23.82|  23.22|  23.06|  23.37|  23.41|  23.76|  24.22|  24.06|  24.37|   24.3|  24.79|  25.23|  26.06|  26.56|  26.58|  25.85|  25.25|  23.29|  23.46|  23.59|  24.17|  23.75|  22.05|  22.89|  23.61|  24.41|  24.76|  24.67|  25.03|  25.17|  24.75|  24.77|  24.91|   24.6|  25.48|   26.2|  26.33|  26.48|  26.11|  27.75|  27.47|  27.57|  27.32|   27.0|  26.49|  26.49|  26.38|  25.98|  25.81|  25.66|  25.48|\n",
            "|   84654|     60657|      Chicago|   IL|Chicago-Napervill...|         Cook|       2|  13.27|   13.2|   13.2|  13.31|  13.36|   13.5|  13.23|   13.1|  12.98|  12.68|  12.58|  12.46|  12.46|  12.35|  12.34|  12.42|  12.22|  11.96|  11.93|   11.9|  11.84|  11.88|  12.16|  12.15|  12.08|  12.11|  12.18|  12.05|  12.03|  11.96|  12.01|  12.18|   12.0|  11.89|  11.78|  11.96|  12.28|  12.47|  12.56|  12.84|  12.94|  12.79|  12.61|  12.57|  12.51|  12.32|  12.23|  12.26|  12.33|   12.3|  12.36|  12.57|  12.43|  12.48|   12.4|  12.38|  12.37|  12.36|  12.33|  12.39|  12.27|   12.3|  12.41|  12.36|  12.45|  12.36|  12.36|  12.53|  12.45|  12.45|  12.38|   12.4|  12.52|  12.68|  12.85|  12.99|  13.07|  13.12|  13.11|  13.02|  12.85|   12.8|  12.75|   12.7|  13.11|  13.35|  13.45|  13.45|  13.54|  13.66|  13.79|  13.98|  14.15|  14.16|  14.09|  14.06|\n",
            "|   61637|     10023|     New York|   NY|New York-Newark-J...|     New York|       3|  20.48|  20.73|  20.59|  20.77|  21.01|   21.5|  21.66|  21.91|  21.92|  22.07|  22.22|  22.16|  22.43|  22.82|  22.58|  22.54|  22.14|   22.4|  22.44|  22.59|  22.56|   22.5|  22.05|  22.39|   22.3|  22.36|  22.49|  22.96|  23.44|  23.83|  24.04|  23.96|  23.79|   24.0|  24.63|  24.46|  24.36|  24.36|  23.99|   24.0|  23.94|  24.28|  25.26|  25.92|  26.06|  25.85|  25.29|  24.65|  23.64|  23.88|  23.55|  23.54|  23.89|  23.94|  23.64|  24.51|  24.49|  25.07|  25.62|  25.16|  24.16|  23.62|  21.78|   22.2|  22.04|  21.94|  21.63|  22.61|  23.29|  24.15|  24.96|  25.49|  25.35|  25.22|  25.23|   25.2|  24.81|  25.02|  24.92|  26.72|  27.24|   27.1|  27.01|  26.64|  28.31|  27.82|  27.65|  26.97|  26.11|  25.29|  25.37|  25.03|  24.65|  24.51|  24.49|  24.04|\n",
            "|   91982|     77494|         Katy|   TX|Houston-The Woodl...|       Harris|       4|   9.53|   9.31|   9.19|   9.14|   9.11|   8.88|   9.09|   9.13|   9.07|   9.31|   9.51|   9.38|   9.48|   9.42|   9.41|    9.4|   9.38|   9.35|   9.27|   9.15|   9.11|   9.11|    9.1|   9.13|   9.15|   9.25|   9.36|   9.37|   9.57|   9.67|    9.6|   9.46|   9.39|   9.39|   9.42|   9.42|   9.47|   9.44|   9.49|    9.5|   9.62|   9.73|    9.7|   9.72|   9.69|   9.69|   9.69|   9.77|   9.82|    9.9|  10.05|  10.13|  10.22|  10.25|  10.29|  10.31|  10.25|  10.23|  10.24|  10.27|  10.32|  10.37|  10.35|  10.47|  10.73|  10.84|  10.91|  10.55|  10.59|  10.79|  10.95|  11.07|  11.23|  11.42|  11.59|  11.63|  11.63|   11.8|   11.7|  11.63|  11.63|  11.58|  11.64|  11.65|  11.62|   11.6|  11.49|  11.56|  11.48|  11.48|  11.47|   11.6|   11.6|  11.69|  11.67|  11.59|\n",
            "|   84616|     60614|      Chicago|   IL|Chicago-Napervill...|         Cook|       5|  14.09|  14.04|  13.85|  14.03|  14.17|  14.37|  14.26|  14.13|  14.12|  13.86|  13.73|  13.46|  13.47|   13.4|  13.39|  13.54|   13.3|  13.15|  13.04|   13.1|  12.99|  12.96|  13.23|   13.1|  12.97|  13.06|  12.95|  12.95|  13.12|  12.91|  13.03|  13.37|  13.25|  13.11|  13.02|  13.18|  13.39|  13.62|  13.75|  14.23|  14.52|   14.3|  14.13|  13.67|  13.93|  13.36|  13.15|  13.29|   13.3|  13.42|  13.63|  13.61|   13.4|  13.33|   13.5|  13.38|  13.52|  13.35|  13.35|  13.48|  13.35|  13.36|  13.19|  13.16|  13.31|  13.28|  13.34|  13.63|  13.53|  13.41|  13.35|  13.41|  13.52|  13.91|  14.23|  14.31|  14.42|  14.33|  14.17|   14.0|  13.97|  13.89|  13.89|  13.91|  14.34|  14.41|  14.51|  14.41|   14.4|  14.56|  14.61|  14.77|  14.92|  14.89|  14.77|  14.94|\n",
            "|   93144|     79936|      El Paso|   TX|             El Paso|      El Paso|       6|   8.83|   9.04|   8.99|   8.96|   9.18|   9.03|   9.03|   9.18|   9.14|   9.04|   9.01|   8.94|    8.9|   8.89|    8.9|   8.85|   8.83|    8.7|   8.67|   8.64|   8.65|   8.68|   8.69|   8.75|   8.82|   8.89|   8.97|   9.06|   9.11|   9.21|   9.22|   9.21|   9.19|   9.11|   9.07|   9.11|   9.12|   9.11|   9.14|   9.23|   9.25|   9.24|   9.15|    9.1|   9.08|   9.01|   9.03|   9.09|   9.12|   9.15|   9.13|    9.1|   9.06|   9.01|   9.01|   8.96|   8.91|   8.85|   8.79|   8.83|   8.86|   8.89|   8.92|   8.91|   8.99|   9.06|   9.09|   9.14|   9.14|   9.17|   9.17|   9.23|   9.33|   9.44|    9.5|   9.52|   9.53|   9.56|   9.56|   9.56|   9.53|   9.48|   9.48|   9.54|   9.61|   9.56|   9.62|   9.63|   9.63|   9.68|   9.75|   9.91|   10.0|  10.02|  10.27|  10.62|\n",
            "|   91940|     77449|         Katy|   TX|Houston-The Woodl...|       Harris|       7|   7.77|   7.88|   7.71|   7.64|   7.86|   7.46|   7.43|   7.45|   7.52|   7.68|   7.82|    7.8|   7.76|   7.77|    7.7|   7.65|   7.73|   7.87|   8.04|   8.02|   8.04|   8.05|   8.04|   7.84|   7.78|   7.94|   8.13|    8.1|   8.07|   8.09|   8.11|   8.06|   8.12|   8.02|   7.95|   8.03|   8.06|   8.06|   8.06|   8.12|    8.2|   8.29|   8.15|   8.12|   8.13|   8.06|   8.04|   8.01|   7.98|   8.04|   8.08|   8.11|   8.16|   8.26|   8.36|   8.42|   8.42|   8.46|   8.51|   8.58|    8.6|   8.61|   8.58|   8.54|   8.58|   8.67|   8.71|   8.87|   8.98|   9.23|   9.22|   9.23|   9.33|   9.31|   9.37|   9.17|   9.13|   9.07|   9.14|   9.39|   9.48|   9.48|   9.58|    9.6|   9.64|   9.65|   9.73|   9.71|    9.7|   9.76|    9.8|   9.92|   9.91|   9.94|  10.15|  10.44|\n",
            "|   91733|     77084|      Houston|   TX|Houston-The Woodl...|       Harris|       8|   7.53|   7.59|   7.52|   7.47|   7.56|    7.4|   7.41|   7.36|   7.33|   7.56|   7.68|   7.75|   7.61|   7.78|   7.64|   7.54|   7.52|   7.66|   7.66|    7.7|   7.78|   7.77|   7.79|   7.69|   7.61|   7.65|   7.92|   7.97|   8.08|   8.04|    8.0|   8.34|   8.43|   8.15|   7.93|   8.11|   8.27|   8.16|   8.09|   8.07|   8.09|   8.14|   8.12|   8.12|   8.13|   8.06|   8.04|   8.01|    8.0|   7.99|   8.01|   8.04|   8.11|   8.19|   8.27|   8.33|   8.33|   8.34|   8.36|   8.42|   8.46|    8.5|   8.47|    8.4|   8.48|   8.55|    8.6|   8.85|   8.93|   9.31|   9.28|   9.25|   9.32|   9.24|   9.28|   9.11|   9.06|   8.99|   8.99|   9.26|   9.32|   9.31|   9.42|   9.48|   9.52|   9.46|   9.47|   9.46|   9.51|    9.6|   9.65|   9.73|   9.79|   9.85|  10.04|  10.33|\n",
            "|   61616|     10002|     New York|   NY|New York-Newark-J...|     New York|       9|  15.46|  15.57|  15.77|  15.79|  15.89|  16.12|  16.22|  16.28|  16.22|   16.0|  15.83|  15.37|   15.2|  15.31|  15.06|  14.78|  14.78|  14.65|  14.66|  14.54|  14.77|  14.43|  14.46|  14.67|  14.69|  14.77|  14.89|  14.85|  15.33|  15.38|  15.15|  15.38|  15.45|  15.78|  16.14|  16.14|  15.77|   15.8|  15.92|  16.65|  16.57|  16.34|  18.74|  19.58|  20.24|  20.51|  20.44|  20.04|  19.67|  19.36|  18.87|  19.59|  20.85|  21.65|   21.4|  22.27|  22.65|  23.28|  24.09|  24.68|  23.18|   23.1|  20.66|  20.62|  19.82|  20.49|  20.42|  16.37|  16.94|  17.77|  18.71|  19.21|  19.22|   19.5|  19.56|  19.43|  20.06|  21.69|  22.52|  24.57|  25.54|   25.7|  25.88|  24.74|  25.77|  25.08|   24.7|   24.5|  24.39|  23.95|  24.43|  24.28|  24.06|  24.14|  23.89|  22.97|\n",
            "|   61807|     10467|     New York|   NY|New York-Newark-J...|        Bronx|      10|  12.79|  13.06|  12.61|  13.36|  14.29|  15.17|  15.34|   15.7|  15.91|  15.76|  15.38|   15.4|  15.71|  16.06|  15.81|  15.67|  15.67|  15.42|  15.14|  14.95|   14.8|   14.6|  14.34|  14.35|  14.55|  14.69|  14.57|  14.68|  14.71|  14.51|  14.37|  14.56|  15.08|  15.35|  15.29|  15.34|   15.1|  14.82|  14.41|  14.36|  14.46|  14.54|  15.18|  15.37|  15.43|  15.47|  15.07|  14.89|  15.29|  15.21|  15.28|  15.16|  15.17|  15.11|  15.14|   15.1|  15.23|  15.68|  15.23|   15.0|  14.71|  14.31|   14.2|  14.26|  14.45|  14.66|  14.97|  15.26|   15.5|  15.67|  15.92|  16.38|  16.68|  17.15|  17.35|  17.01|  16.89|  16.64|  16.63|  16.94|   17.0|  16.73|  16.23|  16.39|   17.3|  17.29|  17.65|  17.53|  17.76|  18.16|  18.81|  19.08|  19.17|  19.23|  19.09|  18.69|\n",
            "|   84640|     60640|      Chicago|   IL|Chicago-Napervill...|         Cook|      11|  11.62|  11.58|  11.47|  11.27|   11.3|  11.31|  11.14|  10.96|  10.73|  10.59|  10.62|   10.5|  10.37|  10.07|   10.1|  10.14|   9.93|   9.72|    9.7|   9.62|   9.62|   9.52|   9.53|   9.36|   9.31|   9.41|   9.35|   9.47|   9.57|   9.52|   9.54|   9.54|   9.61|   9.69|   9.75|   9.82|   9.96|  10.15|  10.33|  10.27|  10.26|  10.27|   10.2|  10.15|   9.99|    9.9|   10.0|    9.9|   9.98|   9.97|   10.2|  10.18|  10.17|  10.22|  10.18|  10.33|  10.22|  10.06|   9.93|  10.01|   9.95|   9.95|  10.19|  10.06|  10.05|   9.93|   9.91|  10.04|  10.07|  10.25|  10.12|   10.1|  10.16|  10.32|  10.42|  10.47|   10.5|  10.49|  10.37|  10.36|  10.41|  10.47|   10.6|  10.61|  10.87|  10.93|  10.99|  10.97|  11.02|  11.19|  11.31|  11.47|  11.66|  11.67|  11.66|  11.54|\n",
            "|   97564|     94109|San Francisco|   CA|San Francisco-Oak...|San Francisco|      12|  19.37|  19.14|  18.91|  18.75|  18.82|  18.66|  18.62|  18.73|  18.65|  18.64|  18.06|  17.71|  17.71|  17.66|  17.63|   17.6|  17.85|  17.64|  17.81|  18.05|  17.84|  17.86|  18.08|  18.52|  19.11|   19.7|  19.32|  18.99|  19.16|  19.56|  19.84|   19.5|  19.54|  19.41|  19.16|  19.31|  19.29|  19.21|  19.15|   19.4|  19.88|  20.43|   20.6|   20.7|  20.79|  20.41|  19.99|  19.79|  19.76|  19.65|  19.52|  19.22|  19.08|  19.27|  19.61|   19.8|  19.92|  20.09|  20.31|  20.15|  19.54|  19.52|  19.27|  19.35|  19.24|  19.53|  19.82|  20.11|  20.22|   20.0|  19.68|  19.69|   19.7|  20.17|  20.39|  20.46|  20.49|  20.74|  21.23|   21.3|  21.46|  21.41|  21.28|  21.38|  22.08|  22.65|   23.0|  22.38|  22.46|   22.8|  23.13|  23.47|  23.62|  23.88|  23.29|  22.97|\n",
            "|   62037|     11226|     New York|   NY|New York-Newark-J...|        Kings|      13|   18.5|  18.56|  18.75|  19.22|  19.26|  19.02|  19.06|  18.93|  18.74|   19.0|  19.04|  18.95|  18.38|  18.46|  18.59|  18.59|  18.45|  18.62|  18.53|  18.23|  17.63|  17.62|  17.77|  17.45|  17.57|  17.64|  17.98|  18.13|   18.1|  18.09|  17.87|  17.39|  17.29|  17.29|  17.01|  17.27|  17.28|  16.91|   16.9|  16.93|  16.58|  16.75|   17.0|  17.87|  18.22|  18.31|  18.47|  19.06|  19.15|  19.48|  19.88|  20.77|  20.48|  20.88|  21.02|  21.04|   21.1|  20.85|  20.37|  20.56|  20.81|   21.4|  19.45|  19.54|  20.12|  20.01|  20.42|  19.57|  19.78|  19.85|  19.76|   20.0|   20.2|  20.18|  20.44|   20.6|  20.89|  21.55|   21.6|  22.52|  23.11|  22.89|  22.75|  22.79|  23.99|  23.94|  24.29|  24.82|  24.99|  25.24|   25.4|  25.41|  25.74|  25.88|  26.09|  26.32|\n",
            "|   61630|     10016|     New York|   NY|New York-Newark-J...|     New York|      14|  17.88|  17.93|  17.98|  18.15|  18.31|  18.48|  18.48|  18.37|  18.15|   18.0|  17.86|  17.78|  17.57|  17.68|  17.43|  17.46|  17.31|   17.3|   17.1|  17.29|  17.21|  17.03|  16.69|   17.0|  17.22|  17.18|  17.45|  17.68|  18.11|  17.81|  17.64|  17.52|  18.03|  18.28|  18.67|   18.4|  18.32|  18.48|  18.37|  18.89|  18.72|  18.52|  19.61|  19.81|  19.77|  19.51|  19.63|  19.38|  19.13|  19.57|  19.55|  20.01|  20.08|  20.87|  20.78|  21.38|  21.87|  22.39|   22.9|  23.04|  22.01|   21.4|  19.68|  20.01|  20.23|   20.5|  20.32|  19.94|  20.32|  20.88|  21.51|  21.86|  21.68|  21.74|  21.86|  22.19|  21.96|  22.14|  21.91|  22.51|  22.89|  23.18|  23.25|  22.95|  24.12|  23.73|  24.01|  23.78|  23.48|  23.09|  23.24|   23.4|  23.32|   23.2|  23.18|   22.9|\n",
            "|   74101|     37013|    Nashville|   TN|Nashville-Davidso...|     Davidson|      15|  10.06|  10.07|  10.03|   9.98|   9.93|   9.86|   9.74|   9.62|   9.38|    9.2|   9.12|   9.08|   9.07|   9.09|   9.15|   9.15|   9.14|   9.06|   8.99|   8.94|   8.91|   8.93|   8.97|   8.96|   9.01|   9.01|   9.04|   9.13|   9.22|   9.26|   9.19|   9.07|   8.96|   8.95|   8.97|   8.99|   9.05|   9.16|    9.2|    9.2|   9.15|   9.17|   9.32|   9.37|   9.41|   9.38|   9.35|   9.37|   9.36|   9.37|   9.33|   9.28|   9.33|   9.38|   9.43|   9.45|   9.41|   9.35|   9.34|   9.43|   9.64|   9.81|   9.94|   9.93|   9.91|   9.91|   9.92|   9.92|   9.97|  10.08|   10.1|  10.17|  10.27|  10.32|   10.4|  10.51|   10.5|  10.62|  10.75|  10.85|  10.92|  10.97|  11.09|  11.17|  11.24|  11.31|  11.49|  11.53|   11.6|  11.68|   11.8|  11.95|  12.04|  12.22|  12.25|  12.21|\n",
            "|   71831|     32162| The Villages|   FL|        The Villages|       Sumter|      16|  12.37|  12.29|  12.13|  12.25|  12.27|   12.2|  12.32|  12.07|  11.71|  11.82|  11.72|  11.78|  11.49|  11.57|  11.25|  11.62|  11.95|  11.99|  11.99|  11.85|  11.96|  12.09|  11.84|  11.76|  11.63|  12.01|    9.0|    7.6|   7.45|   7.33|   7.47|   7.79|   8.01|   8.34|   8.98|   9.31|   9.61|   9.05|   8.61|   8.19|    8.3|   8.28|   8.66|    8.7|    8.8|   8.86|   8.58|    8.5|    8.1|   7.86|    7.6|   7.49|   7.41|   7.41|   7.39|   7.63|    8.1|   8.52|   9.31|   9.75|   9.71|   9.69|   9.71|    8.6|  10.17|  10.77|  10.07|  10.33|  10.51|  10.88|  10.83|  10.38|   9.56|   9.07|   8.27|   7.75|   7.76|   7.93|   8.77|   9.51|  10.19|   10.7|  11.07|  11.26|  10.97|  11.06|  10.63|  10.19|   9.48|    9.2|   9.15|   9.19|   9.27|   9.42|   9.49|   9.59|\n",
            "|   62087|     11375|     New York|   NY|New York-Newark-J...|       Queens|      17|  15.99|  15.79|  15.83|  15.84|  15.91|  16.05|  15.96|  15.61|  15.59|   15.6|  15.64|  15.57|  15.54|  15.45|  15.27|  15.29|  15.28|  15.06|  15.78|  16.59|  16.58|   16.8|  17.36|  17.68|  18.15|  18.32|   17.9|   17.2|  16.73|  16.37|  16.36|  16.07|   15.7|  15.92|   15.9|  16.01|  15.96|  15.48|  14.93|  15.07|  15.21|  15.25|  13.55|  12.01|  11.01|  10.54|  10.55|  10.27|  10.39|  10.35|  10.21|   9.92|    9.8|    9.5|   9.63|   9.62|    9.7|   9.69|   9.56|   9.51|   9.67|   9.87|   7.87|   8.01|   8.19|   8.06|   8.51|   9.07|   10.9|  10.46|  12.19|  12.53|  12.81|  13.05|  13.51|  13.88|  14.54|  16.03|  16.89|  18.03|  18.59|  19.58|  20.69|  21.57|  22.54|  22.87|  23.11|   23.3|  23.64|  24.25|  23.88|  24.53|  24.64|  24.92|  24.96|   25.4|\n",
            "|   62045|     11235|     New York|   NY|New York-Newark-J...|        Kings|      18|  19.35|  19.59|  19.82|  20.46|  20.59|  21.18|  20.84|  20.64|  20.42|   20.4|  20.61|  20.51|   20.5|  21.04|  21.25|  21.62|  21.56|  22.01|   22.0|  21.74|  21.27|  21.14|  20.71|  20.59|  20.28|  19.93|  19.85|  20.02|  20.06|  20.01|  19.71|  19.44|  19.28|  19.27|  19.38|   19.5|  19.51|   19.5|  19.43|  19.08|  18.89|  18.96|  18.61|  18.55|  18.28|  17.94|  17.64|  17.32|  17.12|  17.58|  17.99|  18.05|  17.65|   17.3|  17.22|  17.09|  16.68|  17.15|  16.94|  16.94|  16.92|  17.08|  16.69|  17.08|  17.15|  17.63|  17.45|  16.87|  16.82|   16.9|  16.81|  17.01|   17.1|  17.18|  17.28|  17.25|  17.17|   17.3|   17.5|  18.26|  19.52|  20.36|  20.79|  20.94|  22.04|  22.16|  22.58|  22.82|  22.88|   23.1|  23.34|  23.12|  23.14|   23.3|  23.51|   23.9|\n",
            "|   92593|     78660| Pflugerville|   TX|   Austin-Round Rock|       Travis|      19|   10.3|  10.32|  10.38|  10.47|  10.43|  10.24|  10.14|   9.91|   9.85|   9.91|   9.83|   9.64|   9.57|   9.47|   9.49|   9.43|    9.6|   9.68|   9.76|   9.71|   9.69|   9.71|   9.64|   9.59|   9.51|   9.51|    9.5|   9.55|    9.6|    9.8|   9.97|   9.93|   9.76|   9.66|   9.55|   9.51|   9.55|   9.62|   9.81|   9.77|   9.72|   9.79|   9.65|   9.55|   9.55|    9.5|   9.55|    9.6|   9.65|    9.7|   9.74|   9.79|   9.81|   9.85|   9.86|   9.89|    9.9|   9.93|   9.94|  10.01|  10.06|   10.1|  10.06|  10.03|  10.04|  10.14|  10.21|  10.36|  10.41|  10.48|  10.53|  10.56|  10.63|  10.74|  10.81|  10.84|   10.9|  11.05|  11.22|  11.21|  11.12|   11.1|  11.16|  11.19|  11.23|  11.27|  11.41|  11.47|  11.48|  11.59|  11.63|  11.71|  11.81|  11.95|  12.27|  12.86|\n",
            "|   96107|     90250|    Hawthorne|   CA|Los Angeles-Long ...|  Los Angeles|      20|  14.53|   14.5|   14.4|  14.28|  14.18|   14.1|  14.08|  14.07|  14.06|  13.97|  14.02|  14.04|  14.01|  14.09|  14.24|  14.31|  14.15|  14.13|  14.17|  14.28|  14.29|  14.66|  14.56|  14.74|   14.7|  14.63|  14.63|  14.82|   15.0|  15.24|  15.48|  15.59|  15.73|  15.94|  16.18|  16.34|  16.46|  16.63|  16.79|  17.04|  17.25|  17.43|  17.51|  17.79|   17.7|  17.38|  17.33|  17.24|  17.28|  17.17|  16.88|  16.74|  16.56|   16.5|  16.73|  16.84|  16.81|  16.94|  16.92|  17.12|  17.21|  17.22|  17.33|  17.13|  17.33|  17.09|  17.04|   17.0|  17.03|  17.51|   17.4|   17.4|  17.48|  17.66|  17.81|  17.87|  17.93|  18.03|  17.98|  17.81|   17.8|  17.78|  17.85|  17.95|  18.13|   18.1|  18.11|  18.02|   18.1|   18.2|  18.29|  18.47|  18.68|  18.79|  19.02|  19.05|\n",
            "+--------+----------+-------------+-----+--------------------+-------------+--------+-------+-------+-------+-------+-------+-------+-------+-------+-------+-------+-------+-------+-------+-------+-------+-------+-------+-------+-------+-------+-------+-------+-------+-------+-------+-------+-------+-------+-------+-------+-------+-------+-------+-------+-------+-------+-------+-------+-------+-------+-------+-------+-------+-------+-------+-------+-------+-------+-------+-------+-------+-------+-------+-------+-------+-------+-------+-------+-------+-------+-------+-------+-------+-------+-------+-------+-------+-------+-------+-------+-------+-------+-------+-------+-------+-------+-------+-------+-------+-------+-------+-------+-------+-------+-------+-------+-------+-------+-------+-------+-------+-------+-------+-------+-------+-------+\n",
            "only showing top 20 rows\n",
            "\n"
          ],
          "name": "stdout"
        }
      ]
    },
    {
      "cell_type": "code",
      "metadata": {
        "id": "oEDzgX5vh8rm",
        "colab_type": "code",
        "outputId": "8765ebef-f566-4bcf-d91b-da8d66506e07",
        "colab": {
          "base_uri": "https://localhost:8080/",
          "height": 583
        }
      },
      "source": [
        "from pyspark.sql.types import *\n",
        "\n",
        "forecast_df = spark.read.csv(\"AllRegionsForePublic.csv\", inferSchema = True, header = True)\n",
        "forecast_df.show()\n",
        "forecast_df.dtypes"
      ],
      "execution_count": 0,
      "outputs": [
        {
          "output_type": "stream",
          "text": [
            "+---+------+--------------------+---------+-------+----------+--------+--------------------+\n",
            "|_c0|Region|          RegionName|StateName|MSAName|CountyName|CityName|ForecastYoYPctChange|\n",
            "+---+------+--------------------+---------+-------+----------+--------+--------------------+\n",
            "|  1| State|              Alaska|       AK|     NA|        NA|      NA|   -3.22533849129594|\n",
            "|  2| State|             Alabama|       AL|     NA|        NA|      NA|   0.591582229150434|\n",
            "|  3| State|            Arkansas|       AR|     NA|        NA|      NA|    8.34934853420195|\n",
            "|  4| State|             Arizona|       AZ|     NA|        NA|      NA|    3.82502044153721|\n",
            "|  5| State|          California|       CA|     NA|        NA|      NA|     8.2706918700679|\n",
            "|  6| State|            Colorado|       CO|     NA|        NA|      NA|    9.16191252377072|\n",
            "|  7| State|         Connecticut|       CT|     NA|        NA|      NA|    3.88751033912325|\n",
            "|  8| State|District of Columbia|       DC|     NA|        NA|      NA|    1.85090019227407|\n",
            "|  9| State|            Delaware|       DE|     NA|        NA|      NA|    5.30504093063335|\n",
            "| 10| State|             Florida|       FL|     NA|        NA|      NA|    5.44117647058824|\n",
            "| 11| State|             Georgia|       GA|     NA|        NA|      NA|    7.68973214285715|\n",
            "| 12| State|              Hawaii|       HI|     NA|        NA|      NA|    5.19693053311794|\n",
            "| 13| State|                Iowa|       IA|     NA|        NA|      NA|    -0.5067615658363|\n",
            "| 14| State|               Idaho|       ID|     NA|        NA|      NA|    2.56734355573975|\n",
            "| 15| State|            Illinois|       IL|     NA|        NA|      NA|    5.22737556561086|\n",
            "| 16| State|             Indiana|       IN|     NA|        NA|      NA|     2.7523670793882|\n",
            "| 17| State|              Kansas|       KS|     NA|        NA|      NA|    2.88011695906434|\n",
            "| 18| State|            Kentucky|       KY|     NA|        NA|      NA|    3.60805084745763|\n",
            "| 19| State|           Louisiana|       LA|     NA|        NA|      NA|   0.527720739219717|\n",
            "| 20| State|       Massachusetts|       MA|     NA|        NA|      NA|    9.12328767123287|\n",
            "+---+------+--------------------+---------+-------+----------+--------+--------------------+\n",
            "only showing top 20 rows\n",
            "\n"
          ],
          "name": "stdout"
        },
        {
          "output_type": "execute_result",
          "data": {
            "text/plain": [
              "[('_c0', 'int'),\n",
              " ('Region', 'string'),\n",
              " ('RegionName', 'string'),\n",
              " ('StateName', 'string'),\n",
              " ('MSAName', 'string'),\n",
              " ('CountyName', 'string'),\n",
              " ('CityName', 'string'),\n",
              " ('ForecastYoYPctChange', 'double')]"
            ]
          },
          "metadata": {
            "tags": []
          },
          "execution_count": 61
        }
      ]
    },
    {
      "cell_type": "markdown",
      "metadata": {
        "id": "YzVipQJHjbt5",
        "colab_type": "text"
      },
      "source": [
        "#Project Tasks\n",
        "\n"
      ]
    },
    {
      "cell_type": "markdown",
      "metadata": {
        "id": "uXm5JYm7ASoR",
        "colab_type": "text"
      },
      "source": [
        "## 1.  Find the top-100 zip-codes with highest predicted-YoYPctChange\n",
        "\n",
        "The forecast dataframe has the forecasted percentage change by region. We would like the recommendations made based on ZipCodes. "
      ]
    },
    {
      "cell_type": "code",
      "metadata": {
        "id": "-TwHLcsUkaWJ",
        "colab_type": "code",
        "outputId": "99fa9a2a-e913-4bdf-9d3a-d8f2210350a1",
        "colab": {
          "base_uri": "https://localhost:8080/",
          "height": 216
        }
      },
      "source": [
        "import pyspark.sql.functions as funcs\n",
        "import pandas as pd\n",
        "\n",
        "regioncategory = forecast_df.groupBy('Region').agg(funcs.count(funcs.lit(1)).alias(\"count\"))\n",
        "regioncategory.show()\n"
      ],
      "execution_count": 0,
      "outputs": [
        {
          "output_type": "stream",
          "text": [
            "+------------+-----+\n",
            "|      Region|count|\n",
            "+------------+-----+\n",
            "|      County| 1882|\n",
            "|       State|   51|\n",
            "|Neighborhood| 7419|\n",
            "|         Zip|15252|\n",
            "|     Country|    1|\n",
            "|         Msa|  774|\n",
            "|        City|12673|\n",
            "+------------+-----+\n",
            "\n"
          ],
          "name": "stdout"
        }
      ]
    },
    {
      "cell_type": "markdown",
      "metadata": {
        "id": "ruda8xpdlQGh",
        "colab_type": "text"
      },
      "source": [
        "There are a total of 15252 zipcodes, of which we need to find top 100 zip codes that have the highest value for \"ForecastYoYPctChange\" column (index= 7). Filter the dataframe to have only Region = zip\n"
      ]
    },
    {
      "cell_type": "code",
      "metadata": {
        "id": "rb6rLGdel4BD",
        "colab_type": "code",
        "outputId": "dbada21c-60a5-4f7c-fa47-e2dc0cec31c2",
        "colab": {
          "base_uri": "https://localhost:8080/",
          "height": 450
        }
      },
      "source": [
        "\n",
        "from pyspark.sql import Window\n",
        "from pyspark.sql.functions import desc\n",
        "import pyspark.sql.functions as funcs\n",
        "\n",
        "# column 'RegionName' is renamed to zip\n",
        "filtered_forecast_df = forecast_df.select(forecast_df.Region, forecast_df.RegionName.alias('Zip'), forecast_df.ForecastYoYPctChange,forecast_df.StateName, forecast_df.CountyName, forecast_df.CityName).filter(forecast_df.Region == 'Zip')\n",
        "# Use fwindow function to order the dataframe\n",
        "forecast_windows = Window.orderBy(desc('ForecastYoYPctChange'))\n",
        "    \n",
        "# to get top 100, assign dense rank based on the ForecastYoYPctChange valu\n",
        "filtered_forecast_df = filtered_forecast_df.withColumn(\"DenseRank\", funcs.dense_rank().over(forecast_windows))\n",
        "filtered_forecast_df_top100 = filtered_forecast_df.filter(filtered_forecast_df.DenseRank <= 100)\n",
        "filtered_forecast_df_top100.show()\n",
        "\n",
        "#Make sure there are 100 distinct Zip Codes\n",
        "\n",
        "#filtered_forecast_df.select('Zip').distinct().count()"
      ],
      "execution_count": 0,
      "outputs": [
        {
          "output_type": "stream",
          "text": [
            "+------+-----+--------------------+---------+-----------+-------------+---------+\n",
            "|Region|  Zip|ForecastYoYPctChange|StateName| CountyName|     CityName|DenseRank|\n",
            "+------+-----+--------------------+---------+-----------+-------------+---------+\n",
            "|   Zip|01340|    19.9185022026432|       MA|   Franklin|      Colrain|        1|\n",
            "|   Zip|37687|    19.8496835443038|       TN|     Carter|Roan Mountain|        2|\n",
            "|   Zip|01376|    19.8286180631121|       MA|   Franklin|Turners Falls|        3|\n",
            "|   Zip|79603|    19.8167664670659|       TX|     Taylor|      Abilene|        4|\n",
            "|   Zip|44306|    19.7807228915663|       OH|     Summit|        Akron|        5|\n",
            "|   Zip|94020|    19.7692643051771|       CA|  San Mateo|     La Honda|        6|\n",
            "|   Zip|32087|    19.7629107981221|       FL|      Baker|    Sanderson|        7|\n",
            "|   Zip|49659|    19.7232796486091|       MI|     Antrim|    Mancelona|        8|\n",
            "|   Zip|95127|    19.6071819841753|       CA|Santa Clara|     San Jose|        9|\n",
            "|   Zip|01301|    19.5824059353471|       MA|   Franklin|   Greenfield|       10|\n",
            "|   Zip|03867|    19.5731912507011|       NH|  Strafford|    Rochester|       11|\n",
            "|   Zip|49656|    19.5491452991453|       MI|       Lake|       Luther|       12|\n",
            "|   Zip|31520|    19.3679389312977|       GA|      Glynn|    Brunswick|       13|\n",
            "|   Zip|95121|    19.2894114999437|       CA|Santa Clara|     San Jose|       14|\n",
            "|   Zip|48625|    19.2133956386293|       MI|      Clare|     Harrison|       15|\n",
            "|   Zip|13365|    19.1418092909535|       NY|   Herkimer| Little Falls|       16|\n",
            "|   Zip|48060|    19.0202622169249|       MI|Saint Clair|   Port Huron|       17|\n",
            "|   Zip|79536|    18.9816326530612|       TX|     Taylor|       Merkel|       18|\n",
            "|   Zip|19601|    18.9344262295082|       PA|      Berks|      Reading|       19|\n",
            "|   Zip|60407|    18.8027950310559|       IL|     Grundy|   Braceville|       20|\n",
            "+------+-----+--------------------+---------+-----------+-------------+---------+\n",
            "only showing top 20 rows\n",
            "\n"
          ],
          "name": "stdout"
        }
      ]
    },
    {
      "cell_type": "markdown",
      "metadata": {
        "id": "CXLQegihBbxX",
        "colab_type": "text"
      },
      "source": [
        "##2.  Find the top-100 zip-codes with highest Price-per-rent-ratio\n",
        "\n",
        "The price per rent ratio  dataframe has the rato for each yaer starting 2010 to 2018. For this exercise we will be considering the most recent values. The region name is the zip code.\n"
      ]
    },
    {
      "cell_type": "code",
      "metadata": {
        "id": "7R20I_PvDq5B",
        "colab_type": "code",
        "outputId": "ea55ab28-2c82-429f-9dd7-5ab39170d5a9",
        "colab": {
          "base_uri": "https://localhost:8080/",
          "height": 33
        }
      },
      "source": [
        "\n",
        "# RegionName in PPRR csv is the zip code. There 15480 distinct zip codes\n",
        "regionname = pprr_df.groupBy('RegionName').agg(funcs.count(funcs.lit(1)).alias(\"counts\"))\n",
        "regionname.select('RegionName').distinct().count()   \n",
        "\n"
      ],
      "execution_count": 0,
      "outputs": [
        {
          "output_type": "execute_result",
          "data": {
            "text/plain": [
              "15480"
            ]
          },
          "metadata": {
            "tags": []
          },
          "execution_count": 196
        }
      ]
    },
    {
      "cell_type": "markdown",
      "metadata": {
        "id": "trs-6-0aHuSn",
        "colab_type": "text"
      },
      "source": [
        "There are a total of 15480  zipcodes, of which we need to find top 100 zip codes that have the highest value for \"price per rent ratio \" for the latest values.(2018-09)"
      ]
    },
    {
      "cell_type": "code",
      "metadata": {
        "id": "OhJ638plJ8yf",
        "colab_type": "code",
        "outputId": "f7a139d3-1c6c-423b-e8a0-ca12c842f065",
        "colab": {
          "base_uri": "https://localhost:8080/",
          "height": 450
        }
      },
      "source": [
        "\n",
        "# column 'RegionName' is renamed to zip\n",
        "filtered_pprr_df = pprr_df.select(pprr_df.RegionName.alias('Zip'),pprr_df.Metro, pprr_df.City, pprr_df.CountyName.alias('County'),pprr_df.State, pprr_df['2018-09'].alias('latestpriceperrentratio'))\n",
        "filtered_pprr_df.show()\n",
        "\n"
      ],
      "execution_count": 0,
      "outputs": [
        {
          "output_type": "stream",
          "text": [
            "+-----+--------------------+-------------+-------------+-----+-----------------------+\n",
            "|  Zip|               Metro|         City|       County|State|latestpriceperrentratio|\n",
            "+-----+--------------------+-------------+-------------+-----+-----------------------+\n",
            "|10025|New York-Newark-J...|     New York|     New York|   NY|                  25.48|\n",
            "|60657|Chicago-Napervill...|      Chicago|         Cook|   IL|                  14.06|\n",
            "|10023|New York-Newark-J...|     New York|     New York|   NY|                  24.04|\n",
            "|77494|Houston-The Woodl...|         Katy|       Harris|   TX|                  11.59|\n",
            "|60614|Chicago-Napervill...|      Chicago|         Cook|   IL|                  14.94|\n",
            "|79936|             El Paso|      El Paso|      El Paso|   TX|                  10.62|\n",
            "|77449|Houston-The Woodl...|         Katy|       Harris|   TX|                  10.44|\n",
            "|77084|Houston-The Woodl...|      Houston|       Harris|   TX|                  10.33|\n",
            "|10002|New York-Newark-J...|     New York|     New York|   NY|                  22.97|\n",
            "|10467|New York-Newark-J...|     New York|        Bronx|   NY|                  18.69|\n",
            "|60640|Chicago-Napervill...|      Chicago|         Cook|   IL|                  11.54|\n",
            "|94109|San Francisco-Oak...|San Francisco|San Francisco|   CA|                  22.97|\n",
            "|11226|New York-Newark-J...|     New York|        Kings|   NY|                  26.32|\n",
            "|10016|New York-Newark-J...|     New York|     New York|   NY|                   22.9|\n",
            "|37013|Nashville-Davidso...|    Nashville|     Davidson|   TN|                  12.21|\n",
            "|32162|        The Villages| The Villages|       Sumter|   FL|                   9.59|\n",
            "|11375|New York-Newark-J...|     New York|       Queens|   NY|                   25.4|\n",
            "|11235|New York-Newark-J...|     New York|        Kings|   NY|                   23.9|\n",
            "|78660|   Austin-Round Rock| Pflugerville|       Travis|   TX|                  12.86|\n",
            "|90250|Los Angeles-Long ...|    Hawthorne|  Los Angeles|   CA|                  19.05|\n",
            "+-----+--------------------+-------------+-------------+-----+-----------------------+\n",
            "only showing top 20 rows\n",
            "\n"
          ],
          "name": "stdout"
        }
      ]
    },
    {
      "cell_type": "code",
      "metadata": {
        "id": "xAFr8gb4vd5J",
        "colab_type": "code",
        "outputId": "3fcb5243-c6fb-46af-e7d0-0a2a0a5eaaf4",
        "colab": {
          "base_uri": "https://localhost:8080/",
          "height": 450
        }
      },
      "source": [
        "# Use window function to order the dataframe\n",
        "\n",
        "from pyspark.sql import Window\n",
        "pprr_window = Window.orderBy(desc('latestpriceperrentratio'))\n",
        "    \n",
        "# to get top 100, assign dense rank based on the ForecastYoYPctChange valu\n",
        "filtered_pprr_df = filtered_pprr_df.withColumn(\"DenseRank\", funcs.dense_rank().over(pprr_window))\n",
        "filtered_pprr_df_top100 = filtered_pprr_df.filter(filtered_pprr_df.DenseRank <= 100)\n",
        "filtered_pprr_df_top100.show()"
      ],
      "execution_count": 0,
      "outputs": [
        {
          "output_type": "stream",
          "text": [
            "+-----+--------------------+--------------+-----------+-----+-----------------------+---------+\n",
            "|  Zip|               Metro|          City|     County|State|latestpriceperrentratio|DenseRank|\n",
            "+-----+--------------------+--------------+-----------+-----+-----------------------+---------+\n",
            "|94087|San Jose-Sunnyval...|     Sunnyvale|Santa Clara|   CA|                  38.77|        1|\n",
            "|95129|San Jose-Sunnyval...|      San Jose|Santa Clara|   CA|                  38.22|        2|\n",
            "|94086|San Jose-Sunnyval...|     Sunnyvale|Santa Clara|   CA|                  37.59|        3|\n",
            "|95014|San Jose-Sunnyval...|     Cupertino|Santa Clara|   CA|                  36.95|        4|\n",
            "|94027|San Francisco-Oak...|      Atherton|  San Mateo|   CA|                   36.4|        5|\n",
            "|94041|San Jose-Sunnyval...| Mountain View|Santa Clara|   CA|                  36.39|        6|\n",
            "|94010|San Francisco-Oak...|    Burlingame|  San Mateo|   CA|                  36.22|        7|\n",
            "|94028|San Francisco-Oak...|Portola Valley|  San Mateo|   CA|                  36.19|        8|\n",
            "|11221|New York-Newark-J...|      New York|      Kings|   NY|                  36.13|        9|\n",
            "|94025|San Francisco-Oak...|    Menlo Park|  San Mateo|   CA|                  35.77|       10|\n",
            "|96712|      Urban Honolulu|       Haleiwa|   Honolulu|   HI|                  35.75|       11|\n",
            "|96762|      Urban Honolulu|          Laie|   Honolulu|   HI|                  35.68|       12|\n",
            "|96821|      Urban Honolulu|      Honolulu|   Honolulu|   HI|                  35.46|       13|\n",
            "|96816|      Urban Honolulu|      Honolulu|   Honolulu|   HI|                  35.34|       14|\n",
            "|11215|New York-Newark-J...|      New York|      Kings|   NY|                  34.64|       15|\n",
            "|95130|San Jose-Sunnyval...|      San Jose|Santa Clara|   CA|                  34.49|       16|\n",
            "|94062|San Francisco-Oak...|  Redwood City|  San Mateo|   CA|                  34.43|       17|\n",
            "|11204|New York-Newark-J...|      New York|      Kings|   NY|                  34.41|       18|\n",
            "|95032|San Jose-Sunnyval...|     Los Gatos|Santa Clara|   CA|                  34.39|       19|\n",
            "|11223|New York-Newark-J...|      New York|      Kings|   NY|                  34.35|       20|\n",
            "+-----+--------------------+--------------+-----------+-----+-----------------------+---------+\n",
            "only showing top 20 rows\n",
            "\n"
          ],
          "name": "stdout"
        }
      ]
    },
    {
      "cell_type": "markdown",
      "metadata": {
        "id": "8AV-FKnqL04f",
        "colab_type": "text"
      },
      "source": [
        "##3.  Find the top-100 zip-codes with highest Score\n",
        "\n",
        "To calculate score we divide Forecasted year to year change by price per rent ratio. Not all Zip Codes in PPRR dataframe have a Forecasted Year to year change. For these values we will be using the city's forecasted value. Metro is not reported in the forecast data, hence we will not be using it. If the city doesnt exist we will be using the county. If the county does not exist then we will use the forecasted value of the state."
      ]
    },
    {
      "cell_type": "code",
      "metadata": {
        "id": "ushpOgOmw7y0",
        "colab_type": "code",
        "colab": {}
      },
      "source": [
        "\n",
        "\n",
        "score_by_zip_df = filtered_pprr_df.join(filtered_forecast_df, \"Zip\")\n",
        "score_df = score_by_zip_df.select(\"Zip\",\"City\",\"State\",\"County\",\"latestpriceperrentratio\",\"ForecastYoYPctChange\",\"Region\")\n",
        "#score_df.show()\n"
      ],
      "execution_count": 0,
      "outputs": []
    },
    {
      "cell_type": "code",
      "metadata": {
        "id": "RfmZefegKz1Y",
        "colab_type": "code",
        "colab": {}
      },
      "source": [
        "#FOR MISSING ZIP, FIND QUIVALENT CITY VALUE\n",
        "\n",
        "# There are 321 zipcodes that dont have a valid forecast value. We would need to find the city on these records.\n",
        "\n",
        "filtered_city_pprr_df = filtered_pprr_df.join(filtered_forecast_df,\"Zip\", how ='left')\n",
        "filtered_city_pprr_df = filtered_city_pprr_df.filter(filtered_forecast_df.ForecastYoYPctChange.isNull())\n",
        "filtered_city_pprr_df = filtered_city_pprr_df.select(\"Zip\",\"City\",\"State\",\"County\",\"latestpriceperrentratio\")\n",
        "\n",
        "#Get forecast values based on the Cities\n",
        "filtered_city_forecast_df = forecast_df.select(forecast_df.Region, forecast_df.RegionName.alias('City'),forecast_df.StateName.alias('State'),forecast_df.CountyName.alias('County'),forecast_df.ForecastYoYPctChange).filter(forecast_df.Region == 'City')\n",
        "\n",
        "#Get score by city\n",
        "score_by_city_df = filtered_city_pprr_df.join(filtered_city_forecast_df, ['City','State','County'])\n",
        "score_by_city_df = score_by_city_df.select(\"Zip\",\"City\",\"State\",\"County\",\"latestpriceperrentratio\",\"ForecastYoYPctChange\",\"Region\")\n"
      ],
      "execution_count": 0,
      "outputs": []
    },
    {
      "cell_type": "code",
      "metadata": {
        "id": "EHMHlLqp39x_",
        "colab_type": "code",
        "colab": {}
      },
      "source": [
        "#FOR MISSING CITY, FIND QUIVALENT COUNTY VALUE\n",
        "\n",
        "# There are 291 zipcodes that dont have a valid forecast value. We would need to find the county on these records.\n",
        "\n",
        "filtered_county_pprr_df = filtered_city_pprr_df.join(filtered_city_forecast_df, ['City','State','County'], how ='left')\n",
        "filtered_county_pprr_df = filtered_county_pprr_df.filter(filtered_city_forecast_df.ForecastYoYPctChange.isNull())\n",
        "filtered_county_pprr_df = filtered_county_pprr_df.select(\"Zip\",\"City\",\"State\",\"County\",\"latestpriceperrentratio\")\n",
        "\n",
        "#Get forecast values based on the County\n",
        "filtered_county_forecast_df = forecast_df.select(forecast_df.Region,forecast_df.StateName.alias('State'),forecast_df.CountyName.alias('County'),forecast_df.ForecastYoYPctChange).filter(forecast_df.Region == 'County')\n",
        "\n",
        "#Get score by county\n",
        "score_by_county_df = filtered_county_pprr_df.join(filtered_county_forecast_df, ['State','County'])\n",
        "score_by_county_df = score_by_county_df.select(\"Zip\",\"City\",\"State\",\"County\",\"latestpriceperrentratio\",\"ForecastYoYPctChange\",\"Region\")\n",
        "#score_by_county_df.show()\n"
      ],
      "execution_count": 0,
      "outputs": []
    },
    {
      "cell_type": "code",
      "metadata": {
        "id": "3tHhbwbu4dJS",
        "colab_type": "code",
        "colab": {}
      },
      "source": [
        "#FOR MISSING COUNTY, FIND QUIVALENT STATE VALUE\n",
        "\n",
        "# There are 259 zipcodes that dont have a valid forecast value. We would need to find the County on these records.\n",
        "# PPRR dataframe has the highest number of distinct zip codes which is why we will do the left join on the forecast dataframe\n",
        "# also to calculate score PPRR is the denominator, hence we need to have a PPRR value\n",
        "\n",
        "filtered_state_pprr_df = filtered_county_pprr_df.join(filtered_county_forecast_df, ['State','County'], how ='left')\n",
        "filtered_state_pprr_df = filtered_state_pprr_df.filter(filtered_county_forecast_df.ForecastYoYPctChange.isNull())\n",
        "filtered_state_pprr_df = filtered_state_pprr_df.select(\"Zip\",\"City\",\"State\",\"County\",\"latestpriceperrentratio\")\n",
        "\n",
        "#Get forecast values based on the County\n",
        "filtered_state_forecast_df = forecast_df.select(forecast_df.Region,forecast_df.StateName.alias('State'),forecast_df.ForecastYoYPctChange).filter(forecast_df.Region == 'State')\n",
        "\n",
        "#Get score by county\n",
        "score_by_state_df = filtered_state_pprr_df.join(filtered_state_forecast_df, 'State')\n",
        "score_by_state_df = score_by_state_df.select(\"Zip\",\"City\",\"State\",\"County\",\"latestpriceperrentratio\",\"ForecastYoYPctChange\",\"Region\")\n",
        "#score_by_state_df.show()\n",
        "\n",
        "\n"
      ],
      "execution_count": 0,
      "outputs": []
    },
    {
      "cell_type": "code",
      "metadata": {
        "id": "ZxVnuFD6j12A",
        "colab_type": "code",
        "colab": {}
      },
      "source": [
        "final = filtered_state_pprr_df.join(filtered_state_forecast_df, 'State', how ='left')\n",
        "final = final.filter(final.ForecastYoYPctChange.isNull())\n",
        "#final.show()\n",
        "# All rows now have a valid forecastYoY value"
      ],
      "execution_count": 0,
      "outputs": []
    },
    {
      "cell_type": "code",
      "metadata": {
        "id": "uBQhZCRBlJKf",
        "colab_type": "code",
        "outputId": "aa33f1c0-d1fc-4f23-9b09-cb47ba0376ac",
        "colab": {
          "base_uri": "https://localhost:8080/",
          "height": 33
        }
      },
      "source": [
        "#Union all the score DFs score_df, score_by_city_df, score_by_county_df, score_by_state_df. The count of distinct zip codes is same as the original price per rent ratio dataframe.\n",
        "\n",
        "final_score = score_df.union(score_by_city_df)\n",
        "final_score = final_score.union(score_by_county_df)\n",
        "final_score = final_score.union(score_by_state_df)\n",
        "\n",
        "final_score.select('Zip').distinct().count()"
      ],
      "execution_count": 0,
      "outputs": [
        {
          "output_type": "execute_result",
          "data": {
            "text/plain": [
              "15480"
            ]
          },
          "metadata": {
            "tags": []
          },
          "execution_count": 256
        }
      ]
    },
    {
      "cell_type": "code",
      "metadata": {
        "id": "e7H0n_nttq2T",
        "colab_type": "code",
        "outputId": "fc453fe2-917e-40bc-d43c-e18b49d8f922",
        "colab": {
          "base_uri": "https://localhost:8080/",
          "height": 450
        }
      },
      "source": [
        "# Calculate the score, The Region column tells if the forecasted value is based on the Zip, City, County or the state.\n",
        "\n",
        "final_score = final_score.withColumn(\"score\",final_score.ForecastYoYPctChange/final_score.latestpriceperrentratio )\n",
        "\n",
        "score_window = Window.orderBy(desc('score'))\n",
        "    \n",
        "# to get top 100, assign dense rank based on the score value\n",
        "final_score = final_score.withColumn(\"DenseRank\", funcs.dense_rank().over(score_window))\n",
        "final_score_top100 = final_score.filter(final_score.DenseRank <= 100)\n",
        "final_score_top100.show()"
      ],
      "execution_count": 0,
      "outputs": [
        {
          "output_type": "stream",
          "text": [
            "+-----+-----------------+-----+--------+-----------------------+--------------------+------+------------------+---------+\n",
            "|  Zip|             City|State|  County|latestpriceperrentratio|ForecastYoYPctChange|Region|             score|DenseRank|\n",
            "+-----+-----------------+-----+--------+-----------------------+--------------------+------+------------------+---------+\n",
            "|11726|         Copiague|   NY| Suffolk|                   2.09|    10.6066368381805|   Zip| 5.074945855588756|        1|\n",
            "|11703|    North Babylon|   NY| Suffolk|                   3.58|    17.0525087514586|   Zip|  4.76327060096609|        2|\n",
            "|11757|      Lindenhurst|   NY| Suffolk|                    2.7|    11.8087211432759|   Zip| 4.373600423435518|        3|\n",
            "| 3215|Waterville Valley|   NH| Grafton|                   2.59|    10.2567567567567|   Zip|3.9601377439215057|        4|\n",
            "|11704|     West Babylon|   NY| Suffolk|                   3.34|    12.9303170409511|   Zip|  3.87135240747039|        5|\n",
            "|13365|     Little Falls|   NY|Herkimer|                   5.04|    19.1418092909535|   Zip| 3.797978033919345|        6|\n",
            "|13329|       Dolgeville|   NY|Herkimer|                   4.99|    18.7968545216252|   Zip| 3.766904713752545|        7|\n",
            "|13357|            Ilion|   NY|Herkimer|                   5.07|     18.302677532014|   Zip|3.6099955684445755|        8|\n",
            "|13350|         Herkimer|   NY|Herkimer|                   5.04|    17.6871921182266|   Zip| 3.509363515521151|        9|\n",
            "|33313|       Lauderhill|   FL| Broward|                   5.34|    17.1562115621156|   Zip| 3.212773700770712|       10|\n",
            "|44306|            Akron|   OH|  Summit|                   6.22|    19.7807228915663|   Zip|3.1801805291907232|       11|\n",
            "|11964|   Shelter Island|   NY| Suffolk|                    4.5|    14.3092944545691|   Zip|3.1798432121264666|       12|\n",
            "|11701|       Amityville|   NY| Suffolk|                   2.37|    7.46552901023891|   Zip| 3.150012240607135|       13|\n",
            "|62033|        Gillespie|   IL|Macoupin|                   5.83|    18.1976967370441|   Zip|3.1213888056679417|       14|\n",
            "|11937|     East Hampton|   NY| Suffolk|                   3.49|    10.5278861154446|   Zip|  3.01658627949702|       15|\n",
            "|75432|           Cooper|   TX|   Delta|                   5.11|    15.1630434782609|   Zip|2.9673274908534046|       16|\n",
            "|60472|          Robbins|   IL|    Cook|                   3.92|    11.6259689922481|   Zip|2.9658084163898217|       17|\n",
            "|21817|        Crisfield|   MD|Somerset|                   4.27|    12.5347885402456|   Zip| 2.935547667504825|       18|\n",
            "|64124|      Kansas City|   MO| Jackson|                   5.79|    16.8778877887789|   Zip| 2.915006526559395|       19|\n",
            "|14301|    Niagara Falls|   NY| Niagara|                   5.68|    16.5454545454546|   Zip|2.9129321382842606|       20|\n",
            "+-----+-----------------+-----+--------+-----------------------+--------------------+------+------------------+---------+\n",
            "only showing top 20 rows\n",
            "\n"
          ],
          "name": "stdout"
        }
      ]
    },
    {
      "cell_type": "code",
      "metadata": {
        "id": "Y7as_lQh0VFD",
        "colab_type": "code",
        "outputId": "55f5d1f1-ac45-4f5a-c2fb-dc957cbd96bc",
        "colab": {
          "base_uri": "https://localhost:8080/",
          "height": 362
        }
      },
      "source": [
        "final_score_top100_p =final_score_top100.toPandas()\n",
        "final_score_top100_p.hist('score');\n",
        "\n",
        "\n"
      ],
      "execution_count": 0,
      "outputs": [
        {
          "output_type": "display_data",
          "data": {
            "image/png": "[encoded data removed]",
            "text/plain": [
              "<matplotlib.figure.Figure at 0x7f8e5077f6d8>"
            ]
          },
          "metadata": {
            "tags": []
          }
        }
      ]
    }
  ]
}